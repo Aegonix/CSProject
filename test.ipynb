{
 "cells": [
  {
   "cell_type": "code",
   "execution_count": 1,
   "metadata": {},
   "outputs": [
    {
     "name": "stdout",
     "output_type": "stream",
     "text": [
      "True\n",
      "False\n"
     ]
    }
   ],
   "source": [
    "board = [[0, 2, 0, 0], [0, 0, 2, 0], [0, 0, 0, 2], [0, 0, 2, 0]]\n",
    "copy = board.copy()\n",
    "board[0][0] = 2\n",
    "print(copy == board)\n",
    "board = [[0, 2, 0, 0], [0, 0, 2, 0], [0, 0, 0, 2], [0, 0, 2, 0]]\n",
    "print(copy == board)"
   ]
  },
  {
   "cell_type": "code",
   "execution_count": 13,
   "metadata": {},
   "outputs": [
    {
     "data": {
      "text/plain": [
       "[[3, 2, 0, 0], [0, 0, 2, 0], [0, 0, 0, 2], [0, 0, 2, 0]]"
      ]
     },
     "execution_count": 13,
     "metadata": {},
     "output_type": "execute_result"
    }
   ],
   "source": [
    "def do(board):\n",
    "    \n",
    "\n",
    "do(board)\n",
    "board"
   ]
  },
  {
   "cell_type": "code",
   "execution_count": 38,
   "metadata": {},
   "outputs": [
    {
     "name": "stdout",
     "output_type": "stream",
     "text": [
      "5\n",
      "h\n"
     ]
    }
   ],
   "source": [
    "class Node:\n",
    "    def __init__(self, parent, val) -> None:\n",
    "        self.parent = parent\n",
    "        self.val = val\n",
    "\n",
    "node = Node(None, 5)\n",
    "for _ in range(5):\n",
    "    node_ = Node(node, 0)\n",
    "    node = node_\n",
    "\n",
    "for i in range(5):\n",
    "    # print(i)\n",
    "    parent = node.parent\n",
    "    # print(parent.val)\n",
    "    if i == 4 and parent:\n",
    "        print(node.parent.val)\n",
    "        break\n",
    "    if parent == None:\n",
    "        print(\"continuing\")\n",
    "    node = parent\n",
    "\n",
    "if not 0: print(\"h\")"
   ]
  },
  {
   "cell_type": "code",
   "execution_count": 36,
   "metadata": {},
   "outputs": [
    {
     "name": "stdout",
     "output_type": "stream",
     "text": [
      "0 1\n"
     ]
    }
   ],
   "source": [
    "def func():\n",
    "    return 0, 1\n",
    "\n",
    "board = func()\n",
    "board, score = board\n",
    "print(board, score)"
   ]
  },
  {
   "cell_type": "code",
   "execution_count": 14,
   "metadata": {},
   "outputs": [
    {
     "data": {
      "text/plain": [
       "12"
      ]
     },
     "execution_count": 14,
     "metadata": {},
     "output_type": "execute_result"
    }
   ],
   "source": [
    "from copy import deepcopy\n",
    "\n",
    "board = [[0, 2, 0, 0], [0, 0, 2, 0], [0, 0, 0, 2], [0, 0, 2, 0]]\n",
    "board1 = deepcopy(board)\n",
    "board1[0][0] = 2\n",
    "sum([row.count(0) for row in board])"
   ]
  },
  {
   "cell_type": "code",
   "execution_count": 16,
   "metadata": {},
   "outputs": [],
   "source": [
    "class MyClass:\n",
    "    def __init__(self):\n",
    "        pass\n",
    "\n",
    "a = None\n",
    "if a: print(\"g\")"
   ]
  },
  {
   "cell_type": "code",
   "execution_count": 1,
   "metadata": {},
   "outputs": [
    {
     "name": "stdout",
     "output_type": "stream",
     "text": [
      "941.0\n"
     ]
    },
    {
     "data": {
      "text/plain": [
       "16533.333333333332"
      ]
     },
     "execution_count": 1,
     "metadata": {},
     "output_type": "execute_result"
    }
   ],
   "source": [
    "moves = 0\n",
    "with open(\"score_data.txt\") as f:\n",
    "    score += sum(map(lambda num_str: int(num_str), f.readlines()))\n",
    "\n",
    "print(score / 15)\n",
    "\n",
    "score = 0\n",
    "with open(\"score_data.txt\") as f:\n",
    "    score += sum(map(lambda num_str: int(num_str), f.readlines()))\n",
    "\n",
    "score / 15"
   ]
  },
  {
   "cell_type": "code",
   "execution_count": 34,
   "metadata": {},
   "outputs": [
    {
     "data": {
      "text/plain": [
       "'\\nscore * free_spaces:\\n    average moves = 826.33\\n    average score = 14309.60\\n\\nfree_spaces:\\n    average moves = 642.26\\n    average score = 10386.66\\n\\nscore:\\n    average moves = 877.86\\n    average score = 15509.06\\n'"
      ]
     },
     "execution_count": 34,
     "metadata": {},
     "output_type": "execute_result"
    }
   ],
   "source": [
    "\"\"\"\n",
    "score * free_spaces:\n",
    "    average score = 826.33\n",
    "    average score = 14309.60\n",
    "\n",
    "free_spaces:\n",
    "    average score = 642.26\n",
    "    average score = 10386.66\n",
    "\n",
    "score:\n",
    "    average score = 877.86\n",
    "    average score = 15509.06\n",
    "\n",
    "score * deviation:\n",
    "    average score = 965.93\n",
    "    average score = 16995.46\n",
    "\n",
    "score * deviation * free_spaces:\n",
    "    average score = 941.0\n",
    "    average score = 16533.33\n",
    "\"\"\""
   ]
  },
  {
   "cell_type": "code",
   "execution_count": 7,
   "metadata": {},
   "outputs": [
    {
     "name": "stdout",
     "output_type": "stream",
     "text": [
      "1031.3\n"
     ]
    },
    {
     "data": {
      "text/plain": [
       "18548.2"
      ]
     },
     "execution_count": 7,
     "metadata": {},
     "output_type": "execute_result"
    }
   ],
   "source": [
    "moves = 0\n",
    "with open(\"moves.txt\") as f:\n",
    "    moves += sum(map(lambda num_str: int(num_str), f.readlines()))\n",
    "\n",
    "print(moves / 20)\n",
    "\n",
    "score = 0\n",
    "with open(\"scores.txt\") as f:\n",
    "    score += sum(map(lambda num_str: int(num_str), f.readlines()))\n",
    "\n",
    "score / 20"
   ]
  },
  {
   "cell_type": "code",
   "execution_count": null,
   "metadata": {},
   "outputs": [],
   "source": [
    "\"\"\"\n",
    "Deviation Code:\n",
    "Find Standard Deviation and use Average of log2 of value by total SD.\n",
    "\"\"\"\n",
    "# if not free_spaces:\n",
    "        #     free_spaces = 1\n",
    "        # total_distance = []\n",
    "        # occurences = []\n",
    "        # for num in [2 ** x for x in range(14)]:\n",
    "        #     for i in range(len(self.board)):\n",
    "        #         occurences += [(i, j) for j, x in enumerate(self.board[i]) if x == num]\n",
    "\n",
    "        #     if occurences:\n",
    "        #         occurences_i = [x[0] for x in occurences]\n",
    "        #         occurences_j = [x[1] for x in occurences]\n",
    "        #         i_mean = sum(occurences_i) / len(occurences)\n",
    "        #         j_mean = sum(occurences_j) / len(occurences)\n",
    "        #         i_deviation = sqrt(sum((x - i_mean) ** 2 for x in occurences_i) / len(occurences_i))\n",
    "        #         j_deviation = sqrt(sum((x - j_mean) ** 2 for x in occurences_j) / len(occurences_j))\n",
    "        #         total_deviation = i_deviation + j_deviation\n",
    "        #         if total_deviation:\n",
    "        #             total_distance.append(log2(num) / total_deviation)\n",
    "\n",
    "        # return self.score * (sum(total_distance) / len(total_distance)) * free_spaces"
   ]
  },
  {
   "cell_type": "code",
   "execution_count": null,
   "metadata": {},
   "outputs": [],
   "source": [
    "\"\"\"\n",
    "Positioning Score\n",
    "Sum of i and j * value raised to log2 value\n",
    "\"\"\"\n",
    "# positioning_score = 0\n",
    "\n",
    "#         for i in range(len(self.board)):\n",
    "#             for j in range(len(self.board)):\n",
    "#                 if self.board[i][j]:\n",
    "#                     positioning_score += (i + j) * (self.board[i][j] ** log2(self.board[i][j]))"
   ]
  },
  {
   "cell_type": "code",
   "execution_count": null,
   "metadata": {},
   "outputs": [],
   "source": [
    "\"\"\"\n",
    "20 Runs (Added self.explored)\n",
    "score * deviation * free_spaces:\n",
    "    average moves = 1096.95\n",
    "    average score = 20020.80\n",
    "\n",
    "score * deviation * (free_spaces + 1):\n",
    "    average moves = 1126.90\n",
    "    average score = 20643.80\n",
    "\n",
    "score * deviation:\n",
    "    average moves = bad\n",
    "\n",
    "score:\n",
    "    average moves = 1031.30\n",
    "    average score = 18548.20\n",
    "\"\"\""
   ]
  },
  {
   "cell_type": "code",
   "execution_count": 11,
   "metadata": {},
   "outputs": [
    {
     "data": {
      "text/plain": [
       "19918.4"
      ]
     },
     "execution_count": 11,
     "metadata": {},
     "output_type": "execute_result"
    }
   ],
   "source": [
    "score = 0\n",
    "with open(\"scores.txt\") as f:\n",
    "    score += sum(map(lambda num_str: int(num_str), f.readlines()))\n",
    "\n",
    "score / 15"
   ]
  },
  {
   "cell_type": "code",
   "execution_count": null,
   "metadata": {},
   "outputs": [],
   "source": [
    "\"\"\"\n",
    "30 Runs\n",
    "score * deviation * free space:\n",
    "    average moves: 919.20\n",
    "    average score: 16124.93\n",
    "\n",
    "score * deviation * free space + 1\n",
    "    average moves: 1020.46\n",
    "    average score: 18291.86\n",
    "\"\"\"\n",
    "\"\"\"\n",
    "15 Runs\n",
    "sqrt(score) * positioning_score:\n",
    "    average moves: 1140.93\n",
    "    average score: 21056\n",
    "\"\"\""
   ]
  },
  {
   "cell_type": "code",
   "execution_count": null,
   "metadata": {},
   "outputs": [],
   "source": [
    "\"\"\"\n",
    "15 Runs\n",
    "Σ(avg_pos * tile) * log10(score):\n",
    "    average score: 17021.866666666665\n",
    "\n",
    "Σ(avg_pos * tile) * log10(score) * (free_spaces + 1):\n",
    "    average score: 15613.6\n",
    "\n",
    "avg_pos squared * log10(score):\n",
    "    average score: 17009.333333333332\n",
    "\n",
    "avg_pos squared * sqrt(score):\n",
    "    average score: 20704.533333333333\n",
    "\n",
    "Σ(pos ** 2 * tile) ** 3 * sqrt(score):\n",
    "    average score: 14040.533333333333\n",
    "\n",
    "Σ(pos ** 3 * tile) ** 2 * sqrt(score):\n",
    "    average score: 19918.4\n",
    "\"\"\""
   ]
  },
  {
   "cell_type": "code",
   "execution_count": 3,
   "metadata": {},
   "outputs": [
    {
     "data": {
      "text/plain": [
       "[0, 2, 4, 0, 0, 1024, 2, 0, 0, 512, 0, 2, 0, 0, 2, 0]"
      ]
     },
     "execution_count": 3,
     "metadata": {},
     "output_type": "execute_result"
    }
   ],
   "source": [
    "board = [[0, 2, 4, 0], [0, 1024, 2, 0], [0, 512, 0, 2], [0, 0, 2, 0]]\n",
    "\n",
    "l = [(i, j, val) for i in range(len(board)) for j, val in enumerate(board[i])]\n",
    "\n",
    "[val for i, j, val in l]"
   ]
  },
  {
   "cell_type": "code",
   "execution_count": 7,
   "metadata": {},
   "outputs": [
    {
     "name": "stdout",
     "output_type": "stream",
     "text": [
      "   A\n",
      "  BAB\n",
      " CBABC\n",
      "DCBABCD\n"
     ]
    }
   ],
   "source": [
    "n = 4\n",
    "\n",
    "for i in range(1, n + 1):\n",
    "    print(\" \" * (4 - i), end=\"\")\n",
    "\n",
    "    for j in range(64 + i, 64, -1):\n",
    "        print(chr(j), end=\"\")\n",
    "\n",
    "    for j in range(66, 65 + i):\n",
    "        print(chr(j), end=\"\")\n",
    "\n",
    "    print()\n"
   ]
  },
  {
   "cell_type": "code",
   "execution_count": null,
   "metadata": {},
   "outputs": [],
   "source": [
    "board = [[2, 4, 2, 4], [4, 2, 4, 2], [2, 4, 2, 4], [4, 2, 4, 2]] ### make a full game over board using 2s and 4s"
   ]
  }
 ],
 "metadata": {
  "kernelspec": {
   "display_name": "Python 3.10.7 64-bit ('3.10.7')",
   "language": "python",
   "name": "python3"
  },
  "language_info": {
   "codemirror_mode": {
    "name": "ipython",
    "version": 3
   },
   "file_extension": ".py",
   "mimetype": "text/x-python",
   "name": "python",
   "nbconvert_exporter": "python",
   "pygments_lexer": "ipython3",
   "version": "3.10.7"
  },
  "orig_nbformat": 4,
  "vscode": {
   "interpreter": {
    "hash": "e6086541296125568f67b7bcfaad0b7d8ef269b9c74c94413103aae42a6772ab"
   }
  }
 },
 "nbformat": 4,
 "nbformat_minor": 2
}
